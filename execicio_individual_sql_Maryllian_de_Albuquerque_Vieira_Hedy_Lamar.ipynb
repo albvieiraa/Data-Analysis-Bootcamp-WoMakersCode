{
  "nbformat": 4,
  "nbformat_minor": 0,
  "metadata": {
    "colab": {
      "provenance": [],
      "authorship_tag": "ABX9TyOYDv1zOozvVRNeBFVdyOp9"
    },
    "kernelspec": {
      "name": "python3",
      "display_name": "Python 3"
    },
    "language_info": {
      "name": "python"
    }
  },
  "cells": [
    {
      "cell_type": "markdown",
      "source": [
        "## **[Exercícios] - SQL**"
      ],
      "metadata": {
        "id": "T0RsDu3jDgQ7"
      }
    },
    {
      "cell_type": "code",
      "execution_count": null,
      "metadata": {
        "id": "yj_scanJV4nk"
      },
      "outputs": [],
      "source": [
        "#importar biblioteca\n",
        "import sqlite3"
      ]
    },
    {
      "cell_type": "code",
      "source": [
        "#criando conexão e banco de dados\n",
        "conexao = sqlite3.connect('banco_de_dados.sqlite')"
      ],
      "metadata": {
        "id": "fHId0EP7XBRH"
      },
      "execution_count": null,
      "outputs": []
    },
    {
      "cell_type": "markdown",
      "source": [
        "1. Crie uma tabela chamada \"alunos\" com os seguintes campos: id (inteiro), nome (texto), idade (inteiro) e curso (texto)"
      ],
      "metadata": {
        "id": "ScGb_uToXUmV"
      }
    },
    {
      "cell_type": "code",
      "source": [
        "cursor = conexao.cursor()\n",
        "cursor.execute('''\n",
        "    CREATE TABLE alunos (\n",
        "      id INT,\n",
        "      nome VARCHAR(100),\n",
        "      idade INT,\n",
        "      curso VARCHAR(100))\n",
        "''')\n",
        "conexao.commit()"
      ],
      "metadata": {
        "id": "Vk6GSnBEXNug"
      },
      "execution_count": null,
      "outputs": []
    },
    {
      "cell_type": "markdown",
      "source": [
        "2. Insira pelo menos 5 registros de alunos na tabela que você criou no exercício anterior."
      ],
      "metadata": {
        "id": "hLwRsD05YVak"
      }
    },
    {
      "cell_type": "code",
      "source": [
        "cursor.execute('INSERT INTO alunos (id, nome, idade, curso) VALUES (1, \"João Silva\", 20, \"Ciência da Computação\")')"
      ],
      "metadata": {
        "colab": {
          "base_uri": "https://localhost:8080/"
        },
        "id": "LqnnYtSrZfzS",
        "outputId": "6b810ccf-58e8-4639-dea6-2e660a9e633c"
      },
      "execution_count": null,
      "outputs": [
        {
          "output_type": "execute_result",
          "data": {
            "text/plain": [
              "<sqlite3.Cursor at 0x7d13c7029840>"
            ]
          },
          "metadata": {},
          "execution_count": 5
        }
      ]
    },
    {
      "cell_type": "code",
      "source": [
        "cursor.execute('INSERT INTO alunos (id, nome, idade, curso) VALUES (2, \"Maria Santos\", 22, \"Engenharia Elétrica\")')"
      ],
      "metadata": {
        "colab": {
          "base_uri": "https://localhost:8080/"
        },
        "id": "5Pv04790Zvjq",
        "outputId": "9c6ec5cc-c192-4e37-ece2-042933aafc24"
      },
      "execution_count": null,
      "outputs": [
        {
          "output_type": "execute_result",
          "data": {
            "text/plain": [
              "<sqlite3.Cursor at 0x7d13c7029840>"
            ]
          },
          "metadata": {},
          "execution_count": 6
        }
      ]
    },
    {
      "cell_type": "code",
      "source": [
        "cursor.execute('INSERT INTO alunos (id, nome, idade, curso) VALUES (3, \"Carlos Oliveira\", 19, \"Administração\")')"
      ],
      "metadata": {
        "colab": {
          "base_uri": "https://localhost:8080/"
        },
        "id": "n7qf-dCYZyV2",
        "outputId": "93e3b9ef-5208-4240-c5e0-692500d9247c"
      },
      "execution_count": null,
      "outputs": [
        {
          "output_type": "execute_result",
          "data": {
            "text/plain": [
              "<sqlite3.Cursor at 0x7d13c7029840>"
            ]
          },
          "metadata": {},
          "execution_count": 7
        }
      ]
    },
    {
      "cell_type": "code",
      "source": [
        "cursor.execute('INSERT INTO alunos (id, nome, idade, curso) VALUES (4, \"Ana Souza\", 21, \"Medicina\")')"
      ],
      "metadata": {
        "colab": {
          "base_uri": "https://localhost:8080/"
        },
        "id": "mwy3QbyKZ0aS",
        "outputId": "a0843fce-f723-4087-cc4f-8e71e541bf32"
      },
      "execution_count": null,
      "outputs": [
        {
          "output_type": "execute_result",
          "data": {
            "text/plain": [
              "<sqlite3.Cursor at 0x7d13c7029840>"
            ]
          },
          "metadata": {},
          "execution_count": 8
        }
      ]
    },
    {
      "cell_type": "code",
      "source": [
        "cursor.execute('INSERT INTO alunos (id, nome, idade, curso) VALUES (5, \"Pedro Ferreira\", 23, \"Direito\")')"
      ],
      "metadata": {
        "colab": {
          "base_uri": "https://localhost:8080/"
        },
        "id": "5cJMSK8nZ3df",
        "outputId": "c68e8d13-07af-4d6f-8c60-37c5040e532f"
      },
      "execution_count": null,
      "outputs": [
        {
          "output_type": "execute_result",
          "data": {
            "text/plain": [
              "<sqlite3.Cursor at 0x7d13c7029840>"
            ]
          },
          "metadata": {},
          "execution_count": 9
        }
      ]
    },
    {
      "cell_type": "code",
      "source": [
        "cursor.execute('INSERT INTO alunos (id, nome, idade, curso) VALUES (6, \"Julia Lima\", 18, \"Física\")')"
      ],
      "metadata": {
        "colab": {
          "base_uri": "https://localhost:8080/"
        },
        "id": "GJ-Wp37aaU8h",
        "outputId": "b38c84b1-4121-4ed8-d10c-5173a66c84c2"
      },
      "execution_count": null,
      "outputs": [
        {
          "output_type": "execute_result",
          "data": {
            "text/plain": [
              "<sqlite3.Cursor at 0x7d13c7029840>"
            ]
          },
          "metadata": {},
          "execution_count": 11
        }
      ]
    },
    {
      "cell_type": "code",
      "source": [
        "cursor.execute('INSERT INTO alunos (id, nome, idade, curso) VALUES (7, \"Lucas Pereira\", 24, \"Engenharia Biomédica\")')"
      ],
      "metadata": {
        "colab": {
          "base_uri": "https://localhost:8080/"
        },
        "id": "fYMdG1WRaYrt",
        "outputId": "3ed96933-58f8-40d8-a0b2-060c9ed97f0c"
      },
      "execution_count": null,
      "outputs": [
        {
          "output_type": "execute_result",
          "data": {
            "text/plain": [
              "<sqlite3.Cursor at 0x7d13c7029840>"
            ]
          },
          "metadata": {},
          "execution_count": 12
        }
      ]
    },
    {
      "cell_type": "markdown",
      "source": [
        "3. Consultas Básicas Escreva consultas SQL para realizar as seguintes tarefas:\n",
        "\n",
        "a) Selecionar todos os registros da tabela \"alunos\":"
      ],
      "metadata": {
        "id": "OSUu8wpyakBB"
      }
    },
    {
      "cell_type": "code",
      "source": [
        "cursor.execute(\"SELECT * FROM alunos\")\n",
        "alunos = cursor.fetchall()\n",
        "for aluno in alunos:\n",
        "    print(aluno)"
      ],
      "metadata": {
        "colab": {
          "base_uri": "https://localhost:8080/"
        },
        "id": "UaLEE0E9aKzX",
        "outputId": "c0017db0-d0e5-4f9c-e4d0-2fc835bc30b0"
      },
      "execution_count": null,
      "outputs": [
        {
          "output_type": "stream",
          "name": "stdout",
          "text": [
            "(1, 'João Silva', 20, 'Ciência da Computação')\n",
            "(2, 'Maria Santos', 22, 'Engenharia Elétrica')\n",
            "(3, 'Carlos Oliveira', 19, 'Administração')\n",
            "(4, 'Ana Souza', 21, 'Medicina')\n",
            "(5, 'Pedro Ferreira', 23, 'Direito')\n",
            "(6, 'Julia Lima', 18, 'Física')\n",
            "(7, 'Lucas Pereira', 24, 'Engenharia Biomédica')\n"
          ]
        }
      ]
    },
    {
      "cell_type": "markdown",
      "source": [
        "b) Selecionar o nome e a idade dos alunos com mais de 20 anos."
      ],
      "metadata": {
        "id": "pacPUlYran-D"
      }
    },
    {
      "cell_type": "code",
      "source": [
        "cursor.execute('SELECT nome, idade FROM alunos WHERE idade > 20')\n",
        "alunos = cursor.fetchall()\n",
        "for aluno in alunos:\n",
        "    print(aluno)"
      ],
      "metadata": {
        "colab": {
          "base_uri": "https://localhost:8080/"
        },
        "id": "jgfWsIxiarbb",
        "outputId": "0d3555f5-3b0d-4ed1-c7e5-cf3b56647ed2"
      },
      "execution_count": null,
      "outputs": [
        {
          "output_type": "stream",
          "name": "stdout",
          "text": [
            "('Maria Santos', 22)\n",
            "('Ana Souza', 21)\n",
            "('Pedro Ferreira', 23)\n",
            "('Lucas Pereira', 24)\n"
          ]
        }
      ]
    },
    {
      "cell_type": "markdown",
      "source": [
        "c) Selecionar os alunos do curso de \"Engenharia\" em ordem alfabética"
      ],
      "metadata": {
        "id": "VXjeN1TabBpN"
      }
    },
    {
      "cell_type": "code",
      "source": [
        "cursor.execute('SELECT nome, curso FROM alunos WHERE curso LIKE \"Engenharia%\" ORDER BY nome ASC')\n",
        "alunos = cursor.fetchall()\n",
        "for aluno in alunos:\n",
        "    print(aluno)"
      ],
      "metadata": {
        "colab": {
          "base_uri": "https://localhost:8080/"
        },
        "id": "TxiQuyhRbFWu",
        "outputId": "7aba81e1-b940-4744-9998-13b1d5c9db03"
      },
      "execution_count": null,
      "outputs": [
        {
          "output_type": "stream",
          "name": "stdout",
          "text": [
            "('Lucas Pereira', 'Engenharia Biomédica')\n",
            "('Maria Santos', 'Engenharia Elétrica')\n"
          ]
        }
      ]
    },
    {
      "cell_type": "markdown",
      "source": [
        "d) Contar o número total de alunos na tabela"
      ],
      "metadata": {
        "id": "fEGvPW1dbOq5"
      }
    },
    {
      "cell_type": "code",
      "source": [
        "cursor.execute('SELECT COUNT(*) AS total_alunos FROM alunos')\n",
        "alunos = cursor.fetchall()\n",
        "for aluno in alunos:\n",
        "    print(aluno)"
      ],
      "metadata": {
        "colab": {
          "base_uri": "https://localhost:8080/"
        },
        "id": "pevNV31TbULb",
        "outputId": "3f19fe6d-3485-4e72-ef2b-fdb80d2b8976"
      },
      "execution_count": null,
      "outputs": [
        {
          "output_type": "stream",
          "name": "stdout",
          "text": [
            "(7,)\n"
          ]
        }
      ]
    },
    {
      "cell_type": "markdown",
      "source": [
        "4. Atualização e Remoção\n",
        "\n",
        "a) Atualize a idade de um aluno específico na tabela."
      ],
      "metadata": {
        "id": "Cp_p9kV3byP9"
      }
    },
    {
      "cell_type": "code",
      "source": [
        "cursor.execute('UPDATE alunos SET idade=30 WHERE nome=\"João Silva\"')\n",
        "alunos = cursor.fetchall()\n",
        "for aluno in alunos:\n",
        "    print(aluno)"
      ],
      "metadata": {
        "id": "Fm443b3ob4Nx"
      },
      "execution_count": null,
      "outputs": []
    },
    {
      "cell_type": "code",
      "source": [
        "cursor.execute(\"SELECT * FROM alunos\")\n",
        "alunos = cursor.fetchall()\n",
        "for aluno in alunos:\n",
        "    print(aluno)"
      ],
      "metadata": {
        "colab": {
          "base_uri": "https://localhost:8080/"
        },
        "id": "OGkuYhThcOlo",
        "outputId": "df65342d-a6bf-4f3e-f58b-397b09dc71b4"
      },
      "execution_count": null,
      "outputs": [
        {
          "output_type": "stream",
          "name": "stdout",
          "text": [
            "(1, 'João Silva', 30, 'Ciência da Computação')\n",
            "(2, 'Maria Santos', 22, 'Engenharia Elétrica')\n",
            "(3, 'Carlos Oliveira', 19, 'Administração')\n",
            "(4, 'Ana Souza', 21, 'Medicina')\n",
            "(5, 'Pedro Ferreira', 23, 'Direito')\n",
            "(6, 'Julia Lima', 18, 'Física')\n",
            "(7, 'Lucas Pereira', 24, 'Engenharia Biomédica')\n"
          ]
        }
      ]
    },
    {
      "cell_type": "markdown",
      "source": [
        "b) Remova um aluno pelo seu ID"
      ],
      "metadata": {
        "id": "5a31IPadcW4c"
      }
    },
    {
      "cell_type": "code",
      "source": [
        "cursor.execute('DELETE FROM alunos WHERE id=2')\n",
        "alunos = cursor.fetchall()\n",
        "for aluno in alunos:\n",
        "    print(aluno)"
      ],
      "metadata": {
        "id": "M7sFaJj8cbrL"
      },
      "execution_count": null,
      "outputs": []
    },
    {
      "cell_type": "code",
      "source": [
        "cursor.execute(\"SELECT * FROM alunos\")\n",
        "alunos = cursor.fetchall()\n",
        "for aluno in alunos:\n",
        "    print(aluno)"
      ],
      "metadata": {
        "colab": {
          "base_uri": "https://localhost:8080/"
        },
        "id": "2P5eB7TgcV9D",
        "outputId": "6f5aae8f-22df-4096-8705-92f9071d102e"
      },
      "execution_count": null,
      "outputs": [
        {
          "output_type": "stream",
          "name": "stdout",
          "text": [
            "(1, 'João Silva', 30, 'Ciência da Computação')\n",
            "(3, 'Carlos Oliveira', 19, 'Administração')\n",
            "(4, 'Ana Souza', 21, 'Medicina')\n",
            "(5, 'Pedro Ferreira', 23, 'Direito')\n",
            "(6, 'Julia Lima', 18, 'Física')\n",
            "(7, 'Lucas Pereira', 24, 'Engenharia Biomédica')\n"
          ]
        }
      ]
    },
    {
      "cell_type": "code",
      "source": [
        "conexao.close()"
      ],
      "metadata": {
        "id": "BKt1TPjifFWg"
      },
      "execution_count": null,
      "outputs": []
    },
    {
      "cell_type": "markdown",
      "source": [
        "5. Criar uma Tabela e Inserir Dados\n",
        "\n",
        "Crie uma tabela chamada \"clientes\" com os campos: id (chave primária), nome (texto), idade (inteiro) e saldo (float). Insira alguns registros de clientes na tabela."
      ],
      "metadata": {
        "id": "J7-9ycBjcpJr"
      }
    },
    {
      "cell_type": "code",
      "source": [
        "#criando nova conexão e banco de dados\n",
        "conexao01 = sqlite3.connect('banco_dados.sqlite')"
      ],
      "metadata": {
        "id": "2oRZuUP7fViv"
      },
      "execution_count": null,
      "outputs": []
    },
    {
      "cell_type": "markdown",
      "source": [
        "Criei uma nova conexão e um novo banco de dados para não me confundir. Mas depois percebi que não era necessário."
      ],
      "metadata": {
        "id": "AJrZ-V1Ng7xI"
      }
    },
    {
      "cell_type": "code",
      "source": [
        "#criando tabela\n",
        "cursor = conexao01.cursor()\n",
        "cursor.execute('''\n",
        "    CREATE TABLE clientes (\n",
        "      id INT PRIMARY KEY,\n",
        "      nome VARCHAR(100),\n",
        "      idade INT,\n",
        "      saldo REAL)\n",
        "''')\n",
        "conexao01.commit()"
      ],
      "metadata": {
        "id": "gmZUsNPmcrtK"
      },
      "execution_count": null,
      "outputs": []
    },
    {
      "cell_type": "code",
      "source": [
        "#inserindo registros\n",
        "cursor.execute('INSERT INTO clientes (id, nome, idade, saldo) VALUES (1, \"João Silva\", 35, 1000.50)')"
      ],
      "metadata": {
        "colab": {
          "base_uri": "https://localhost:8080/"
        },
        "id": "MGDu-owYdlj4",
        "outputId": "b24d8fc8-cc49-4e7a-9ee6-ac40568dc928"
      },
      "execution_count": null,
      "outputs": [
        {
          "output_type": "execute_result",
          "data": {
            "text/plain": [
              "<sqlite3.Cursor at 0x7d13c70c69c0>"
            ]
          },
          "metadata": {},
          "execution_count": 46
        }
      ]
    },
    {
      "cell_type": "code",
      "source": [
        "cursor.execute('INSERT INTO clientes (id, nome, idade, saldo) VALUES (2, \"Maria da Silva\", 40, 1000)')"
      ],
      "metadata": {
        "colab": {
          "base_uri": "https://localhost:8080/"
        },
        "id": "EXVZm2dud1oE",
        "outputId": "efa391b9-d49d-481f-cf36-35fb019767a3"
      },
      "execution_count": null,
      "outputs": [
        {
          "output_type": "execute_result",
          "data": {
            "text/plain": [
              "<sqlite3.Cursor at 0x7d13c70c69c0>"
            ]
          },
          "metadata": {},
          "execution_count": 48
        }
      ]
    },
    {
      "cell_type": "code",
      "source": [
        "cursor.execute('INSERT INTO clientes (id, nome, idade, saldo) VALUES (3, \"Carlos Souza\", 30, 500)')"
      ],
      "metadata": {
        "colab": {
          "base_uri": "https://localhost:8080/"
        },
        "id": "q3opUaBteILB",
        "outputId": "6a6f29f8-6e2b-4e91-b749-024202558171"
      },
      "execution_count": null,
      "outputs": [
        {
          "output_type": "execute_result",
          "data": {
            "text/plain": [
              "<sqlite3.Cursor at 0x7d13c70c69c0>"
            ]
          },
          "metadata": {},
          "execution_count": 49
        }
      ]
    },
    {
      "cell_type": "code",
      "source": [
        "cursor.execute('INSERT INTO clientes (id, nome, idade, saldo) VALUES (4, \"Ana Santos\", 25, 2000.60)')"
      ],
      "metadata": {
        "colab": {
          "base_uri": "https://localhost:8080/"
        },
        "id": "GyrmZorreLST",
        "outputId": "d28e3f85-6fa1-4c49-b02b-4072ad7b1a38"
      },
      "execution_count": null,
      "outputs": [
        {
          "output_type": "execute_result",
          "data": {
            "text/plain": [
              "<sqlite3.Cursor at 0x7d13c70c69c0>"
            ]
          },
          "metadata": {},
          "execution_count": 50
        }
      ]
    },
    {
      "cell_type": "code",
      "source": [
        "cursor.execute('INSERT INTO clientes (id, nome, idade, saldo) VALUES (5, \"Pedro Oliveira\", 45, 1500)')"
      ],
      "metadata": {
        "colab": {
          "base_uri": "https://localhost:8080/"
        },
        "id": "UwhipFTqePCD",
        "outputId": "e43e55a3-20f7-472f-ad3a-78a7ed0841de"
      },
      "execution_count": null,
      "outputs": [
        {
          "output_type": "execute_result",
          "data": {
            "text/plain": [
              "<sqlite3.Cursor at 0x7d13c70c69c0>"
            ]
          },
          "metadata": {},
          "execution_count": 51
        }
      ]
    },
    {
      "cell_type": "code",
      "source": [
        "cursor.execute('INSERT INTO clientes (id, nome, idade, saldo) VALUES (6, \"Julia Lima\", 28, 3050)')"
      ],
      "metadata": {
        "colab": {
          "base_uri": "https://localhost:8080/"
        },
        "id": "Ub8uY49PeRFm",
        "outputId": "3f46adb4-2b4f-4e20-b76f-47651674205e"
      },
      "execution_count": null,
      "outputs": [
        {
          "output_type": "execute_result",
          "data": {
            "text/plain": [
              "<sqlite3.Cursor at 0x7d13c70c69c0>"
            ]
          },
          "metadata": {},
          "execution_count": 52
        }
      ]
    },
    {
      "cell_type": "code",
      "source": [
        "cursor.execute('INSERT INTO clientes (id, nome, idade, saldo) VALUES (7, \"Lucas Pereira\", 32, 2500.70)')"
      ],
      "metadata": {
        "colab": {
          "base_uri": "https://localhost:8080/"
        },
        "id": "LZgcudeceVQr",
        "outputId": "f7146938-9347-4410-9586-d89b36ccf0ab"
      },
      "execution_count": null,
      "outputs": [
        {
          "output_type": "execute_result",
          "data": {
            "text/plain": [
              "<sqlite3.Cursor at 0x7d13c70c69c0>"
            ]
          },
          "metadata": {},
          "execution_count": 53
        }
      ]
    },
    {
      "cell_type": "code",
      "source": [
        "cursor.execute(\"SELECT * FROM clientes\")\n",
        "clientes = cursor.fetchall()\n",
        "for cliente in clientes:\n",
        "    print(cliente)"
      ],
      "metadata": {
        "colab": {
          "base_uri": "https://localhost:8080/"
        },
        "id": "O1XX5MaSe0Mz",
        "outputId": "cbf146a7-a8f8-4882-cb6f-aec23a45672c"
      },
      "execution_count": null,
      "outputs": [
        {
          "output_type": "stream",
          "name": "stdout",
          "text": [
            "(1, 'João Silva', 35, 1000.5)\n",
            "(2, 'Maria da Silva', 40, 1000.0)\n",
            "(3, 'Carlos Souza', 30, 500.0)\n",
            "(4, 'Ana Santos', 25, 2000.6)\n",
            "(5, 'Pedro Oliveira', 45, 1500.0)\n",
            "(6, 'Julia Lima', 28, 3050.0)\n",
            "(7, 'Lucas Pereira', 32, 2500.7)\n"
          ]
        }
      ]
    },
    {
      "cell_type": "markdown",
      "source": [
        "6. Consultas e agregações\n",
        "\n",
        "a) Selecione o nome e a idade dos clientes com idade superior a 30 anos."
      ],
      "metadata": {
        "id": "BJurJbyhg4uO"
      }
    },
    {
      "cell_type": "code",
      "source": [
        "cursor.execute(\"SELECT nome, idade FROM clientes WHERE idade > 30\")\n",
        "clientes = cursor.fetchall()\n",
        "for cliente in clientes:\n",
        "    print(cliente)"
      ],
      "metadata": {
        "colab": {
          "base_uri": "https://localhost:8080/"
        },
        "id": "wWnH9ze3el20",
        "outputId": "04546668-3516-41c6-c66c-63fb307bd1c9"
      },
      "execution_count": null,
      "outputs": [
        {
          "output_type": "stream",
          "name": "stdout",
          "text": [
            "('João Silva', 35)\n",
            "('Maria da Silva', 40)\n",
            "('Pedro Oliveira', 45)\n",
            "('Lucas Pereira', 32)\n"
          ]
        }
      ]
    },
    {
      "cell_type": "markdown",
      "source": [
        "b) Calcule o saldo médio dos clientes."
      ],
      "metadata": {
        "id": "isQ7nyKailTz"
      }
    },
    {
      "cell_type": "code",
      "source": [
        "cursor.execute(\"SELECT ROUND(AVG(saldo), 2) FROM clientes\")\n",
        "clientes = cursor.fetchall()\n",
        "for cliente in clientes:\n",
        "    print(cliente)"
      ],
      "metadata": {
        "colab": {
          "base_uri": "https://localhost:8080/"
        },
        "id": "kzTDc52vi85F",
        "outputId": "ca9dd94f-96aa-4ebb-ec50-9aa1220066fd"
      },
      "execution_count": null,
      "outputs": [
        {
          "output_type": "stream",
          "name": "stdout",
          "text": [
            "(1650.26,)\n"
          ]
        }
      ]
    },
    {
      "cell_type": "markdown",
      "source": [
        "c) Encontre o cliente com o saldo máximo."
      ],
      "metadata": {
        "id": "hcoWESOZjCQW"
      }
    },
    {
      "cell_type": "code",
      "source": [
        "cursor.execute(\"SELECT nome, saldo FROM clientes WHERE saldo = (SELECT MAX(saldo) FROM clientes)\")\n",
        "clientes = cursor.fetchall()\n",
        "for cliente in clientes:\n",
        "    print(cliente)"
      ],
      "metadata": {
        "colab": {
          "base_uri": "https://localhost:8080/"
        },
        "id": "IAM2OHEpjByM",
        "outputId": "60611afb-23db-44ab-d3ec-5f41bbb9434f"
      },
      "execution_count": null,
      "outputs": [
        {
          "output_type": "stream",
          "name": "stdout",
          "text": [
            "('Julia Lima', 3050.0)\n"
          ]
        }
      ]
    },
    {
      "cell_type": "markdown",
      "source": [
        "d) Conte quantos clientes têm saldo acima de 1000."
      ],
      "metadata": {
        "id": "uedO4Fr-jL0f"
      }
    },
    {
      "cell_type": "code",
      "source": [
        "cursor.execute(\"SELECT COUNT(*) FROM clientes WHERE saldo > 1000\")\n",
        "clientes = cursor.fetchall()\n",
        "for cliente in clientes:\n",
        "    print(cliente)"
      ],
      "metadata": {
        "colab": {
          "base_uri": "https://localhost:8080/"
        },
        "id": "QB0coXuqjLRN",
        "outputId": "8ad3afe9-3bb9-44de-82f8-f9cddfe96ab0"
      },
      "execution_count": null,
      "outputs": [
        {
          "output_type": "stream",
          "name": "stdout",
          "text": [
            "(5,)\n"
          ]
        }
      ]
    },
    {
      "cell_type": "markdown",
      "source": [
        "7. Atualização e Remoção com Condições\n",
        "\n",
        "a) Atualize o saldo de um cliente específico."
      ],
      "metadata": {
        "id": "hbNmdF16jWkv"
      }
    },
    {
      "cell_type": "code",
      "source": [
        "cursor.execute('UPDATE clientes SET saldo=100 WHERE nome=\"Maria da Silva\"')\n",
        "clientes = cursor.fetchall()\n",
        "for cliente in clientes:\n",
        "    print(cliente)"
      ],
      "metadata": {
        "id": "mp5TDRbbjavB"
      },
      "execution_count": null,
      "outputs": []
    },
    {
      "cell_type": "code",
      "source": [
        "#exibindo a tabela com as alterações\n",
        "cursor.execute(\"SELECT * FROM clientes\")\n",
        "clientes = cursor.fetchall()\n",
        "for cliente in clientes:\n",
        "    print(cliente)"
      ],
      "metadata": {
        "colab": {
          "base_uri": "https://localhost:8080/"
        },
        "id": "jDvt6qsjjto6",
        "outputId": "518c8c28-a27c-4715-9eaf-2d1d1120911a"
      },
      "execution_count": null,
      "outputs": [
        {
          "output_type": "stream",
          "name": "stdout",
          "text": [
            "(1, 'João Silva', 35, 1000.5)\n",
            "(2, 'Maria da Silva', 40, 100.0)\n",
            "(3, 'Carlos Souza', 30, 500.0)\n",
            "(4, 'Ana Santos', 25, 2000.6)\n",
            "(5, 'Pedro Oliveira', 45, 1500.0)\n",
            "(6, 'Julia Lima', 28, 3050.0)\n",
            "(7, 'Lucas Pereira', 32, 2500.7)\n"
          ]
        }
      ]
    },
    {
      "cell_type": "markdown",
      "source": [
        "b) Remova um cliente pelo seu ID"
      ],
      "metadata": {
        "id": "cfeaIvppjx1A"
      }
    },
    {
      "cell_type": "code",
      "source": [
        "cursor.execute('DELETE FROM clientes WHERE id=3')\n",
        "clientes = cursor.fetchall()\n",
        "for cliente in clientes:\n",
        "    print(cliente)"
      ],
      "metadata": {
        "id": "NAP-vwETj1od"
      },
      "execution_count": null,
      "outputs": []
    },
    {
      "cell_type": "code",
      "source": [
        "#exibindo a tabela com as alterações\n",
        "cursor.execute(\"SELECT * FROM clientes\")\n",
        "clientes = cursor.fetchall()\n",
        "for cliente in clientes:\n",
        "    print(cliente)"
      ],
      "metadata": {
        "colab": {
          "base_uri": "https://localhost:8080/"
        },
        "id": "QdolsEOOj5n3",
        "outputId": "642c199a-6631-4c48-addf-3cfa5acc5b18"
      },
      "execution_count": null,
      "outputs": [
        {
          "output_type": "stream",
          "name": "stdout",
          "text": [
            "(1, 'João Silva', 35, 1000.5)\n",
            "(2, 'Maria da Silva', 40, 100.0)\n",
            "(4, 'Ana Santos', 25, 2000.6)\n",
            "(5, 'Pedro Oliveira', 45, 1500.0)\n",
            "(6, 'Julia Lima', 28, 3050.0)\n",
            "(7, 'Lucas Pereira', 32, 2500.7)\n"
          ]
        }
      ]
    },
    {
      "cell_type": "markdown",
      "source": [
        "8. Junção de Tabelas\n",
        "\n",
        "a. Crie uma segunda tabela chamada \"compras\" com os campos: id (chave primária), cliente_id (chave estrangeira referenciando o id da tabela \"clientes\"), produto (texto) e valor (real)."
      ],
      "metadata": {
        "id": "6UCtedPlj9ob"
      }
    },
    {
      "cell_type": "code",
      "source": [
        "#criando tabela\n",
        "cursor = conexao01.cursor()\n",
        "cursor.execute('''\n",
        "    CREATE TABLE compras (\n",
        "      id INT PRIMARY KEY,\n",
        "      cliente_id INT FORENGIN KEY REFERENCES clientes(id),\n",
        "      produto VARCHAR(100),\n",
        "      valor REAL)\n",
        "''')\n",
        "conexao01.commit()"
      ],
      "metadata": {
        "id": "lbjxlQyCkEfL"
      },
      "execution_count": null,
      "outputs": []
    },
    {
      "cell_type": "markdown",
      "source": [
        "b. Insira algumas compras associadas a clientes existentes na tabela \"clientes\". Escreva uma consulta para exibir o nome do cliente, o produto e o valor de cada compra."
      ],
      "metadata": {
        "id": "sRDTLex4lZkB"
      }
    },
    {
      "cell_type": "code",
      "source": [
        "# Inserindo uma compra para os clientes da tabela \"clientes\" na tabela 'compras'\n",
        "cursor.execute(\"INSERT INTO compras (id, cliente_id, produto, valor) VALUES (1, 1, 'Smartphone', 2500.0)\")"
      ],
      "metadata": {
        "colab": {
          "base_uri": "https://localhost:8080/"
        },
        "id": "GeVNHniXkdVf",
        "outputId": "bf9932bf-cee2-4df2-db0b-df6b679ec436"
      },
      "execution_count": null,
      "outputs": [
        {
          "output_type": "execute_result",
          "data": {
            "text/plain": [
              "<sqlite3.Cursor at 0x7d13c6f08340>"
            ]
          },
          "metadata": {},
          "execution_count": 65
        }
      ]
    },
    {
      "cell_type": "code",
      "source": [
        "cursor.execute(\"INSERT INTO compras (id, cliente_id, produto, valor) VALUES (2, 3, 'TV', 1500.0)\")"
      ],
      "metadata": {
        "colab": {
          "base_uri": "https://localhost:8080/"
        },
        "id": "east-JsYlzEu",
        "outputId": "ff69403d-ac63-4d8a-e910-ded6b8299b31"
      },
      "execution_count": null,
      "outputs": [
        {
          "output_type": "execute_result",
          "data": {
            "text/plain": [
              "<sqlite3.Cursor at 0x7d13c6f08340>"
            ]
          },
          "metadata": {},
          "execution_count": 66
        }
      ]
    },
    {
      "cell_type": "code",
      "source": [
        "cursor.execute(\"INSERT INTO compras (id, cliente_id, produto, valor) VALUES (3, 2, 'Livro', 50.0)\")"
      ],
      "metadata": {
        "colab": {
          "base_uri": "https://localhost:8080/"
        },
        "id": "j8ok5MMZmAAI",
        "outputId": "d39ccd71-ee76-4c1c-bd7f-f9fa2bb45aed"
      },
      "execution_count": null,
      "outputs": [
        {
          "output_type": "execute_result",
          "data": {
            "text/plain": [
              "<sqlite3.Cursor at 0x7d13c6f08340>"
            ]
          },
          "metadata": {},
          "execution_count": 67
        }
      ]
    },
    {
      "cell_type": "code",
      "source": [
        "cursor.execute(\"INSERT INTO compras (id, cliente_id, produto, valor) VALUES (4, 4, 'Roupas', 300.0)\")"
      ],
      "metadata": {
        "colab": {
          "base_uri": "https://localhost:8080/"
        },
        "id": "aA9LFONtl9CT",
        "outputId": "a98e68e5-fa5f-43bb-b4e6-1f73a24c5e0d"
      },
      "execution_count": null,
      "outputs": [
        {
          "output_type": "execute_result",
          "data": {
            "text/plain": [
              "<sqlite3.Cursor at 0x7d13c6f08340>"
            ]
          },
          "metadata": {},
          "execution_count": 70
        }
      ]
    },
    {
      "cell_type": "code",
      "source": [
        "cursor.execute(\"INSERT INTO compras (id, cliente_id, produto, valor) VALUES (5, 5, 'Eletrônicos', 1000.0)\")"
      ],
      "metadata": {
        "colab": {
          "base_uri": "https://localhost:8080/"
        },
        "id": "X4_PamXdmjmi",
        "outputId": "7a16be35-d986-4a92-b79a-c3a6203b72d1"
      },
      "execution_count": null,
      "outputs": [
        {
          "output_type": "execute_result",
          "data": {
            "text/plain": [
              "<sqlite3.Cursor at 0x7d13c6f08340>"
            ]
          },
          "metadata": {},
          "execution_count": 71
        }
      ]
    },
    {
      "cell_type": "code",
      "source": [
        "cursor.execute(\"INSERT INTO compras (id, cliente_id, produto, valor) VALUES (6, 7, 'Brinquedos', 200.0)\")"
      ],
      "metadata": {
        "colab": {
          "base_uri": "https://localhost:8080/"
        },
        "id": "HAFbcKffmpHQ",
        "outputId": "6182b92b-74dd-44c1-97fb-db0af9830d40"
      },
      "execution_count": null,
      "outputs": [
        {
          "output_type": "execute_result",
          "data": {
            "text/plain": [
              "<sqlite3.Cursor at 0x7d13c6f08340>"
            ]
          },
          "metadata": {},
          "execution_count": 72
        }
      ]
    },
    {
      "cell_type": "code",
      "source": [
        "cursor.execute(\"INSERT INTO compras (id, cliente_id, produto, valor) VALUES (7, 6, 'Alimentos', 50.0)\")"
      ],
      "metadata": {
        "colab": {
          "base_uri": "https://localhost:8080/"
        },
        "id": "sNzFdGBMmqof",
        "outputId": "2cd07185-d02c-4bdb-c36a-be0f360ad074"
      },
      "execution_count": null,
      "outputs": [
        {
          "output_type": "execute_result",
          "data": {
            "text/plain": [
              "<sqlite3.Cursor at 0x7d13c6f08340>"
            ]
          },
          "metadata": {},
          "execution_count": 73
        }
      ]
    },
    {
      "cell_type": "code",
      "source": [
        "#imprimindo tabela\n",
        "cursor.execute(\"SELECT * FROM compras\")\n",
        "compras = cursor.fetchall()\n",
        "for compra in compras:\n",
        "    print(compra)"
      ],
      "metadata": {
        "colab": {
          "base_uri": "https://localhost:8080/"
        },
        "id": "v7ZeUAJxmw4w",
        "outputId": "ac124a83-064f-44e8-b359-487319d41e96"
      },
      "execution_count": null,
      "outputs": [
        {
          "output_type": "stream",
          "name": "stdout",
          "text": [
            "(1, 1, 'Smartphone', 2500.0)\n",
            "(2, 3, 'TV', 1500.0)\n",
            "(3, 2, 'Livro', 50.0)\n",
            "(4, 4, 'Roupas', 300.0)\n",
            "(5, 5, 'Eletrônicos', 1000.0)\n",
            "(6, 7, 'Brinquedos', 200.0)\n",
            "(7, 6, 'Alimentos', 50.0)\n"
          ]
        }
      ]
    },
    {
      "cell_type": "code",
      "source": [
        "# exibir o nome do cliente, o produto e o valor de cada compra\n",
        "cursor.execute('''\n",
        "          SELECT clientes.nome, compras.produto, compras.valor\n",
        "          FROM clientes INNER JOIN compras ON clientes.id = compras.cliente_id\n",
        "''')\n",
        "resultado = cursor.fetchall()\n",
        "for linha in resultado:\n",
        "    print(linha)"
      ],
      "metadata": {
        "colab": {
          "base_uri": "https://localhost:8080/"
        },
        "id": "pKW7e2cWm8xu",
        "outputId": "6c8cc5af-6df5-44ab-ed0e-3e8270449e25"
      },
      "execution_count": null,
      "outputs": [
        {
          "output_type": "stream",
          "name": "stdout",
          "text": [
            "('João Silva', 'Smartphone', 2500.0)\n",
            "('Maria da Silva', 'Livro', 50.0)\n",
            "('Ana Santos', 'Roupas', 300.0)\n",
            "('Pedro Oliveira', 'Eletrônicos', 1000.0)\n",
            "('Lucas Pereira', 'Brinquedos', 200.0)\n",
            "('Julia Lima', 'Alimentos', 50.0)\n"
          ]
        }
      ]
    },
    {
      "cell_type": "code",
      "source": [
        "conexao01.commit()\n",
        "conexao01.close()"
      ],
      "metadata": {
        "id": "ZWwLcB71oZi3"
      },
      "execution_count": null,
      "outputs": []
    }
  ]
}